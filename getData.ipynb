{
 "cells": [
  {
   "cell_type": "code",
   "execution_count": 108,
   "metadata": {},
   "outputs": [
    {
     "name": "stdout",
     "output_type": "stream",
     "text": [
      "78129.14828354589\n"
     ]
    }
   ],
   "source": [
    "import datetime as dt \n",
    "import pandas as pd\n",
    "import yfinance as yf \n",
    "import math\n",
    "import numpy as np\n",
    "from scipy.optimize import minimize\n",
    "from pandas.tseries.offsets import BDay\n",
    "\n",
    
 
    
    
    
   ]
  },
  {
   "cell_type": "code",
   "execution_count": 109,
   "metadata": {},
   "outputs": [
    {
     "name": "stderr",
     "output_type": "stream",
     "text": [
      "[*********************100%%**********************]  1 of 1 completed\n",
      "[*********************100%%**********************]  1 of 1 completed\n",
      "[*********************100%%**********************]  1 of 1 completed\n"
     ]
    },
    {
     "name": "stdout",
     "output_type": "stream",
     "text": [
      "0.170912670236881\n",
      "0.18746773319396562\n",
      "0.05069080732361892\n"
     ]
    },
    {
     "name": "stderr",
     "output_type": "stream",
     "text": [
      "[*********************100%%**********************]  1 of 1 completed\n",
      "[*********************100%%**********************]  1 of 1 completed"
     ]
    },
    {
     "name": "stdout",
     "output_type": "stream",
     "text": [
      "0.05879674474501474\n",
      "0.048289258401307635\n"
     ]
    },
    {
     "name": "stderr",
     "output_type": "stream",
     "text": [
      "\n"
     ]
    }
   ],
   "source": [
    "def volatility(Ticker):\n",
    "    #monthly adjusted close prices for NVDA\n",
    "    df = yf.download(Ticker, period = 'max', interval='1mo', auto_adjust=True)\n",
    "\n",
    "    #monthly returns\n",
    "    sum = 0\n",
    "    months = 0\n",
    "    monthlyReturns = []\n",
    "    \n",
    "    for i in range(1, len(df['Close'])):\n",
    "        monthlyReturn = math.log(df.iloc[i]['Close'] / df.iloc[i-1]['Close'])\n",
    "        sum += monthlyReturn\n",
    "        monthlyReturns.append(monthlyReturn)\n",
    "        months += 1\n",
    "\n",
    "    # average monthly return\n",
    "    monthlyReturnAvg = sum/(months)\n",
    "\n",
    "    #variance\n",
    "    squareSum = 0\n",
    "    for r in monthlyReturns:    \n",
    "        deviation = r - monthlyReturnAvg\n",
    "        squareSum += deviation ** 2\n",
    "\n",
    "    variance = squareSum / (len(monthlyReturns))\n",
    "\n",
    "    #volatility\n",
    "    volatility = math.sqrt(variance)\n",
    "\n",
    "    #annualized\n",
    "    print(volatility)\n",
    "\n",
    "volatility('NVDA')\n",
    "volatility('BTCC-B.TO')\n",
    "volatility('ENB.TO')\n",
    "volatility('SIA.TO')\n",
    "volatility('XSP.TO')\n",
    "\n",
    "\n",
    "\n"
   ]
  },
  {
   "cell_type": "code",
   "execution_count": 164,
   "metadata": {},
   "outputs": [
    {
     "name": "stderr",
     "output_type": "stream",
     "text": [
      "[*********************100%%**********************]  5 of 5 completed"
     ]
    },
    {
     "name": "stdout",
     "output_type": "stream",
     "text": [
      "Equal Risk Contribution Portfolio Weights:\n",
      "[0.09875399 0.30255451 0.09931548 0.20758163 0.29179439]\n"
     ]
    },
    {
     "name": "stderr",
     "output_type": "stream",
     "text": [
      "\n",
      "/var/folders/85/j4fbqr9109s00vvxrh0bj9nm0000gp/T/ipykernel_64926/649327384.py:4: FutureWarning: The default fill_method='pad' in DataFrame.pct_change is deprecated and will be removed in a future version. Either fill in any non-leading NA values prior to calling pct_change or specify 'fill_method=None' to not fill NA values.\n",
      "  returns = data.pct_change().dropna()\n"
     ]
    }
   ],
   "source": [
    "\n",
    "\n",
    "#returns + cov_matrix\n",
    "def returns_cov(tickers, start_date, end_date):\n",
    "    data = yf.download(tickers, start = start_date, end = end_date)['Adj Close']\n",
    "    returns = data.pct_change().dropna()\n",
    "    cov_matrix = returns.cov()\n",
    "    return returns, cov_matrix\n",
    "\n",
    "#portfolio variance\n",
    "def variance(w, cov_matrix):\n",
    "    variance = np.dot(w.T, np.dot(cov_matrix, w))\n",
    "    return variance\n",
    "\n",
    "#risk_contribution\n",
    "def rc(w, cov_matrix):\n",
    "    port_var = variance(w, cov_matrix)\n",
    "    mc = np.dot(cov_matrix, w)\n",
    "    rc = np.multiply(mc, w)/port_var\n",
    "    return rc\n",
    "\n",
    "#objective function\n",
    "def objective(w, cov_matrix):\n",
    "    n = len(w)\n",
    "    target_risk = 1.0/n\n",
    "    risk = rc(w, cov_matrix)\n",
    "    return np.sum((risk - target_risk) ** 2)\n",
    "\n",
    "#contraint that weights sum to 1\n",
    "def constraint_sum(w):\n",
    "    return np.sum(w)-1\n",
    "\n",
    "\n",
    "def erc(tickers, start_date, end_date):\n",
    "    returns, cov_matrix = returns_cov(tickers, start_date, end_date)\n",
    "    initial_weights = np.ones(len(tickers)) / len(tickers)\n",
    "    bounds = [(0,1) for i in range(len(tickers))]\n",
    "    constraints  = ({'type': 'eq', 'fun': constraint_sum})\n",
    "\n",
    "    result = minimize(objective, initial_weights, args=(cov_matrix), method = 'SLSQP', bounds=bounds, constraints = constraints)\n",
    "\n",
    "    return result.x\n",
    "\n",
    "\n",
    "tickers = ['NVDA','BTCC-B.TO', 'ENB.TO', 'SIA.TO', 'XSP.TO']\n",
    "end_date = dt.datetime.now()\n",
    "start_date = end_date - BDay(365)\n",
    "\n",
    "\n",
    "\n",
    "weights = erc(tickers, start_date, end_date)\n",
    "\n",
    "print(\"Equal Risk Contribution Portfolio Weights:\")\n",
    "print(weights)\n"
   ]
  }
 ],
 "metadata": {
  "kernelspec": {
   "display_name": "Python 3",
   "language": "python",
   "name": "python3"
  },
  "language_info": {
   "codemirror_mode": {
    "name": "ipython",
    "version": 3
   },
   "file_extension": ".py",
   "mimetype": "text/x-python",
   "name": "python",
   "nbconvert_exporter": "python",
   "pygments_lexer": "ipython3",
   "version": "3.12.4"
  }
 },
 "nbformat": 4,
 "nbformat_minor": 2
}
